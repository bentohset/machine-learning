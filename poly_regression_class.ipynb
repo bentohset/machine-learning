{
 "cells": [
  {
   "cell_type": "code",
   "execution_count": null,
   "metadata": {},
   "outputs": [],
   "source": [
    "#polynomial regression / classification\n",
    "import numpy as np\n",
    "from numpy.linalg import inv\n",
    "from sklearn.preprocessing import PolynomialFeatures\n",
    "from sklearn.metrics import mean_squared_error\n",
    "\n",
    "#-----input params-----#\n",
    "x = np.array([[4],[7],[10],[2],[3],[9]])\n",
    "y = np.array([[-1],[-1],[-1],[1],[1],[1]])\n",
    "xtest = np.array([[6]])\n",
    "order = 4\n",
    "reg = 0\n",
    "#-----input params-----#\n",
    "\n",
    "poly = PolynomialFeatures(order)\n",
    "P = poly.fit_transform(x)\n",
    "\n",
    "if P.shape[0]> P.shape[1]:      #primal form tall\n",
    "    regl = reg*np.identity(P.shape[1])\n",
    "    w = inv(P.T @ P + regl) @P.T @ y\n",
    "else:       #dual form wide\n",
    "    regl = reg*np.identity(P.shape[0])\n",
    "    w = P.T @ inv(P @ P.T + regl) @ y\n",
    "print('w=', w)\n",
    "\n",
    "Pt = poly.fit_transform(xtest)\n",
    "ytestpred = Pt@w\n",
    "\n",
    "#ymulticlass = [[1 if y == max(x) else 0 for y in x] for x in ytestpred]\n",
    "#print(ymulticlass)\n",
    "ybinaryclass = np.sign(ytestpred)\n",
    "print('ytestpred=',ybinaryclass)"
   ]
  }
 ],
 "metadata": {
  "kernelspec": {
   "display_name": "Python 3.9.9 64-bit",
   "language": "python",
   "name": "python3"
  },
  "language_info": {
   "codemirror_mode": {
    "name": "ipython",
    "version": 3
   },
   "file_extension": ".py",
   "mimetype": "text/x-python",
   "name": "python",
   "nbconvert_exporter": "python",
   "pygments_lexer": "ipython3",
   "version": "3.9.9"
  },
  "orig_nbformat": 4,
  "vscode": {
   "interpreter": {
    "hash": "13f0cb0a81c3b5d98267edb52c8df5ab397f1e76f483578498ff8d8f6d5d2130"
   }
  }
 },
 "nbformat": 4,
 "nbformat_minor": 2
}
