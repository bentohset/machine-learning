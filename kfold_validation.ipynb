{
 "cells": [
  {
   "cell_type": "code",
   "execution_count": null,
   "metadata": {},
   "outputs": [],
   "source": [
    "#k fold validation\n",
    "import numpy as np\n",
    "from numpy.linalg import inv\n",
    "from sklearn.datasets import load_iris\n",
    "from sklearn.preprocessing import PolynomialFeatures\n",
    "import matplotlib.pyplot as plt\n",
    "\n",
    "iris_dataset = load_iris()\n",
    "X = np.array(iris_dataset['data'])\n",
    "y = np.array(iris_dataset['target'])\n",
    "## one hot encoding\n",
    "Y = []\n",
    "for i in y:\n",
    "    letter = [0,0,0]\n",
    "    letter[i] = 1\n",
    "    Y.append(letter)\n",
    "Y = np.array(Y)\n",
    "# randomize order of Y\n",
    "test_idx = np.random.RandomState(seed=2).permutation(Y.shape[0])\n",
    "X_test = X[test_idx[:25]]\n",
    "Y_test = Y[test_idx[:25]]\n",
    "\n",
    "\n",
    "error_rate_train_arr = []\n",
    "error_rate_val_arr = []\n",
    "## for each polynomial order find error rate of training and validation set\n",
    "for order in range(1,11):\n",
    "    error_rate_train_arr_fold = []\n",
    "    error_rate_val_arr_fold = []\n",
    "    Idx = np.random.RandomState(seed=8).permutation(Y.shape[0])\n",
    "    # k fold for k=5 within order\n",
    "    for k in range(0,5):\n",
    "        ##polynomial classification to calculate error rate\n",
    "        X_val = X[Idx[k*25:(k+1)*25]] #prepare index for fold\n",
    "        Y_val = Y[Idx[k*25:(k+1)*25]]\n",
    "        Idxtrain = np.setdiff1d(Idx,Idx[k*25:(k+1)*25])\n",
    "        X_train = X[Idxtrain]\n",
    "        Y_train = Y[Idxtrain]\n",
    "        poly = PolynomialFeatures(order)\n",
    "        P = poly.fit_transform(X_train)\n",
    "        Pval = poly.fit_transform(X_val)\n",
    "        #dual or primal form\n",
    "        if P.shape[0] > P.shape[1]:\n",
    "            wp = inv(P.T @ P) @ P.T @ Y_train\n",
    "        else:\n",
    "            inv_PTP = inv(P.T @ P)\n",
    "            pinv_L = inv_PTP @ P.T\n",
    "            wp = pinv_L @ Y_train\n",
    "        y_est_p = P @ wp\n",
    "        y_cls_p = [[1 if y==max(x) else 0 for y in x] for x in y_est_p]\n",
    "        # accuracy calculation for training set\n",
    "        m1tr = np.matrix(Y_train)\n",
    "        m2tr = np.matrix(y_cls_p)\n",
    "        diff = np.abs(m1tr - m2tr)\n",
    "        error_train = np.where(diff.any(axis=1))[0]\n",
    "        error_rate_train = len(error_train)/len(diff)\n",
    "        error_rate_train_arr_fold += [error_rate_train]\n",
    "        # accuracy calculation for validation set\n",
    "        yval_est_p = Pval @ wp\n",
    "        yval_cls_p = [[1 if y == max(x) else 0 for y in x] for x in yval_est_p]\n",
    "        m1 = np.matrix(Y_val)\n",
    "        m2 = np.matrix(yval_cls_p)\n",
    "        diff = np.abs(m1-m2)\n",
    "        error_val = np.where(diff.any(axis=1))[0]\n",
    "        error_rate_val = len(error_val)/len(diff)\n",
    "        error_rate_val_arr_fold += [error_rate_val]\n",
    "    error_rate_train_arr += [np.mean(error_rate_train_arr_fold)]\n",
    "    error_rate_val_arr += [np.mean(error_rate_val_arr_fold)]\n"
   ]
  }
 ],
 "metadata": {
  "kernelspec": {
   "display_name": "Python 3.9.9 64-bit",
   "language": "python",
   "name": "python3"
  },
  "language_info": {
   "name": "python",
   "version": "3.9.9"
  },
  "orig_nbformat": 4,
  "vscode": {
   "interpreter": {
    "hash": "13f0cb0a81c3b5d98267edb52c8df5ab397f1e76f483578498ff8d8f6d5d2130"
   }
  }
 },
 "nbformat": 4,
 "nbformat_minor": 2
}
