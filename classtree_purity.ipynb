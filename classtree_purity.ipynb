{
 "cells": [
  {
   "cell_type": "code",
   "execution_count": null,
   "metadata": {},
   "outputs": [],
   "source": [
    "#purity of classification tree\n",
    "import math\n",
    "\n",
    "def gini(p):\n",
    "    Q = 1\n",
    "    for i in range(1,len(p)+1):\n",
    "        Q -= (p[i]/sum(p.values()))**2\n",
    "    return Q\n",
    "\n",
    "def entropy(p):\n",
    "    Q = 0\n",
    "    for i in range(1,len(p)+1):\n",
    "        if (p[i]/sum(p.values())==0): \n",
    "            continue\n",
    "        Q -= (p[i]/sum(p.values()))*math.log2(p[i]/sum(p.values()))\n",
    "    return Q\n",
    "\n",
    "def impuritymethod(func,*args):\n",
    "    output = []\n",
    "    for i in args:\n",
    "        output.append(func(i))\n",
    "    return output\n",
    "\n",
    "#-----change-----#\n",
    "a = {1:5, 2:5, 3:8}\n",
    "b = {1:4, 2:0, 3:6}\n",
    "c = {1:1, 2:5, 3:2}\n",
    "q_array = impuritymethod(entropy,a,b,c)\n",
    "#-----change-----#\n",
    "\n",
    "a_num = sum(a.values())\n",
    "b_num = sum(b.values())\n",
    "c_num = sum(c.values())\n",
    "\n",
    "print(q_array)\n",
    "#print(qa, qb, qc)\n",
    "depth1 = q_array[1]*(b_num/a_num) + q_array[2]*(c_num/a_num)\n",
    "print('depth1=',depth1)"
   ]
  }
 ],
 "metadata": {
  "kernelspec": {
   "display_name": "Python 3.9.9 64-bit",
   "language": "python",
   "name": "python3"
  },
  "language_info": {
   "name": "python",
   "version": "3.9.9"
  },
  "orig_nbformat": 4,
  "vscode": {
   "interpreter": {
    "hash": "13f0cb0a81c3b5d98267edb52c8df5ab397f1e76f483578498ff8d8f6d5d2130"
   }
  }
 },
 "nbformat": 4,
 "nbformat_minor": 2
}
