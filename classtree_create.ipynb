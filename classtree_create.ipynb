{
 "cells": [
  {
   "cell_type": "code",
   "execution_count": null,
   "metadata": {},
   "outputs": [],
   "source": [
    "#create classification tree\n",
    "from sklearn import tree\n",
    "import matplotlib.pyplot as plt\n",
    "from sklearn import metrics\n",
    "\n",
    "#-----change-----#\n",
    "X_train = [[0, 0], [1, 1]]\n",
    "y_train = [0, 1]\n",
    "X_test = [[2., 2.]]\n",
    "y_test = []\n",
    "classtree = tree.DecisionTreeClassifier(criterion='entropy', max_depth=4) #split by best feature from entropy decrease\n",
    "#-----change-----#\n",
    "\n",
    "classtree = classtree.fit(X_train,y_train)\n",
    "\n",
    "y_trainpredclass = classtree.predict(X_test)\n",
    "#y_testpred = dtree.predict(X_test)\n",
    "\n",
    "print(y_trainpredclass)\n",
    "\n",
    "#print(\"Training accuracy:\", metrics.accuracy_score(y_train,y_trainpred))\n",
    "#print(\"Test accuracy:\", metrics.accuracy_score(y_test,y_testpred))\n",
    "tree.plot_tree(classtree)\n"
   ]
  }
 ],
 "metadata": {
  "kernelspec": {
   "display_name": "Python 3",
   "language": "python",
   "name": "python3"
  },
  "language_info": {
   "name": "python",
   "version": "3.9.13 (main, May 19 2022, 07:22:26)  [GCC 11.3.0 64 bit (AMD64)]"
  },
  "orig_nbformat": 4,
  "vscode": {
   "interpreter": {
    "hash": "2a8dfe095fce2b5e88c64a2c3ee084c8e0e0d70b23e7b95b1cfb538be294c5c8"
   }
  }
 },
 "nbformat": 4,
 "nbformat_minor": 2
}
