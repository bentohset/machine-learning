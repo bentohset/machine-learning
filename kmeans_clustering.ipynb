{
 "cells": [
  {
   "cell_type": "code",
   "execution_count": 1,
   "metadata": {},
   "outputs": [
    {
     "name": "stdout",
     "output_type": "stream",
     "text": [
      "[[11.]\n",
      " [16.]\n",
      " [21.]]\n"
     ]
    },
    {
     "name": "stderr",
     "output_type": "stream",
     "text": [
      "c:\\Users\\benja\\AppData\\Local\\Programs\\Python\\Python39\\lib\\site-packages\\sklearn\\cluster\\_kmeans.py:1307: RuntimeWarning: Explicit initial center position passed: performing only one init in KMeans instead of n_init=10.\n",
      "  super()._check_params(X)\n"
     ]
    }
   ],
   "source": [
    "#kmeans clustering sklearn\n",
    "import numpy as np\n",
    "from sklearn.cluster import KMeans\n",
    "\n",
    "#-----change-----#\n",
    "X = np.array([[10],[11],[12],[15],[16],[17],[20],[21],[22]])\n",
    "ctr = np.array([[10],[15],[20]])\n",
    "#-----change-----#\n",
    "\n",
    "kmeans = KMeans(init=ctr, n_clusters=3, random_state=0).fit(X)\n",
    "print(kmeans.cluster_centers_)"
   ]
  }
 ],
 "metadata": {
  "kernelspec": {
   "display_name": "Python 3.9.9 64-bit",
   "language": "python",
   "name": "python3"
  },
  "language_info": {
   "codemirror_mode": {
    "name": "ipython",
    "version": 3
   },
   "file_extension": ".py",
   "mimetype": "text/x-python",
   "name": "python",
   "nbconvert_exporter": "python",
   "pygments_lexer": "ipython3",
   "version": "3.9.9"
  },
  "orig_nbformat": 4,
  "vscode": {
   "interpreter": {
    "hash": "13f0cb0a81c3b5d98267edb52c8df5ab397f1e76f483578498ff8d8f6d5d2130"
   }
  }
 },
 "nbformat": 4,
 "nbformat_minor": 2
}
