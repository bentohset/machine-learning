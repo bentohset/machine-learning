{
 "cells": [
  {
   "cell_type": "code",
   "execution_count": null,
   "metadata": {},
   "outputs": [],
   "source": [
    "#create regression tree\n",
    "from sklearn import tree\n",
    "import matplotlib.pyplot as plt\n",
    "from sklearn import metrics\n",
    "\n",
    "#-----change-----#\n",
    "X_train = [[100],[500],[1500],[3500],[5000],[6000]]\n",
    "y_train = [1000, 3000, 5000, 8000, 6500, 7000]\n",
    "X_test = [[400]]\n",
    "y_test = []\n",
    "regtree = tree.DecisionTreeRegressor(criterion='mse', max_depth=2)\n",
    "#-----change-----#\n",
    "\n",
    "regtree = regtree.fit(X_train,y_train)\n",
    "y_trainpredreg = regtree.predict(X_test)\n",
    "print(y_trainpredreg)\n",
    "\n",
    "plt.scatter(X_train,y_train,c='steelblue',s=20)\n",
    "plt.plot(X_train, regtree.predict(X_train), color='black', lw=2, label='scikit-learn')"
   ]
  }
 ],
 "metadata": {
  "kernelspec": {
   "display_name": "Python 3.9.9 64-bit",
   "language": "python",
   "name": "python3"
  },
  "language_info": {
   "name": "python",
   "version": "3.9.9"
  },
  "orig_nbformat": 4,
  "vscode": {
   "interpreter": {
    "hash": "13f0cb0a81c3b5d98267edb52c8df5ab397f1e76f483578498ff8d8f6d5d2130"
   }
  }
 },
 "nbformat": 4,
 "nbformat_minor": 2
}
