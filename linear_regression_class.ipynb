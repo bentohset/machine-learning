{
 "cells": [
  {
   "cell_type": "code",
   "execution_count": null,
   "metadata": {},
   "outputs": [],
   "source": [
    "#linear regression/ classification\n",
    "import numpy as np\n",
    "from numpy.linalg import inv\n",
    "from sklearn.metrics import mean_squared_error\n",
    "\n",
    "def bias(a):\n",
    "    a0 = np.ones((len(a),1))\n",
    "    a_new = np.hstack((a0,a))\n",
    "    return a_new\n",
    "\n",
    "#-----input params-----#\n",
    "x = np.array([[4],[7],[10],[2],[3],[9]])\n",
    "y = np.array([[-1],[-1],[-1],[1],[1],[1]])\n",
    "xt = bias(x)        #add bias\n",
    "reg = 0\n",
    "xnew = np.array([[6]])\n",
    "#-----input params-----#\n",
    "\n",
    "if x.shape[0] > x.shape[1]: #overdetermined: tall, left inverse\n",
    "    det_x = np.linalg.det(xt.T @ xt)\n",
    "    regl = reg*np.identity(xt.shape[1])\n",
    "    w = inv(xt.T @ xt + regl) @ xt.T @ y\n",
    "\n",
    "elif x.shape[0] < x.shape[1]:   #underdetermined: wide, right inverse\n",
    "    det_x  = np.linalg.det(xt @ xt.T)\n",
    "    regl = reg*np.identity(xt.shape[0])\n",
    "    w = xt.T@ inv(xt @ xt.T + regl) @ y\n",
    "\n",
    "else:   #even: square\n",
    "    det_x = np.linalg.det(x)\n",
    "    w = inv(xt) @ y\n",
    "\n",
    "print('det=', det_x)\n",
    "print('w=',w)\n",
    "ypred = xt@w\n",
    "mse_y = mean_squared_error(ypred,y)\n",
    "print('mse_y=',mse_y)\n",
    "xtnew = bias(xnew)\n",
    "ytestpred = xtnew @ w\n",
    "# ymulticlass = [[1 if y == max(x) else 0 for y in x] for x in ytestpred]\n",
    "# print(ymulticlass)\n",
    "ybinaryclass = np.sign(ytestpred)\n",
    "print(\"ypred=\",ybinaryclass)"
   ]
  }
 ],
 "metadata": {
  "kernelspec": {
   "display_name": "Python 3.9.9 64-bit",
   "language": "python",
   "name": "python3"
  },
  "language_info": {
   "codemirror_mode": {
    "name": "ipython",
    "version": 3
   },
   "file_extension": ".py",
   "mimetype": "text/x-python",
   "name": "python",
   "nbconvert_exporter": "python",
   "pygments_lexer": "ipython3",
   "version": "3.9.9"
  },
  "orig_nbformat": 4,
  "vscode": {
   "interpreter": {
    "hash": "13f0cb0a81c3b5d98267edb52c8df5ab397f1e76f483578498ff8d8f6d5d2130"
   }
  }
 },
 "nbformat": 4,
 "nbformat_minor": 2
}
