{
 "cells": [
  {
   "cell_type": "code",
   "execution_count": null,
   "metadata": {},
   "outputs": [],
   "source": [
    "#NN sigmoid+relu+ add bias\n",
    "import numpy as np\n",
    "\n",
    "def relu(a):\n",
    "    return a*(a>0)\n",
    "\n",
    "def sigmoid(a):\n",
    "    return 1/(1+np.exp(-a))\n",
    "\n",
    "def bias(a):\n",
    "    a0 = np.ones((len(a),1))\n",
    "    anew = np.hstack((a0,a))\n",
    "    return anew\n",
    "\n",
    "X1 = np.array([[1,1,3.0],[1,2,2.5]])\n",
    "W = np.array([[-1,0,1],[0,-1,0],[1,0,1]])\n",
    "\n",
    "f1 = relu(relu(X1@W)@W)\n",
    "\n",
    "X2 = np.array([[1,2,1],[1,5,1]])\n",
    "W1 = np.array([[-1,0,1],[0,-1,0],[1,0,-1]])\n",
    "W2 = np.array([[-1,0,1],[0,-1,0],[1,0,1],[1,-1,1]])\n",
    "W3 = W2\n",
    "\n",
    "f2 = sigmoid(bias(sigmoid(bias(sigmoid(X2@W1))@W2))@W3)\n",
    "print(f1)\n"
   ]
  }
 ],
 "metadata": {
  "kernelspec": {
   "display_name": "Python 3.9.9 64-bit",
   "language": "python",
   "name": "python3"
  },
  "language_info": {
   "name": "python",
   "version": "3.9.9"
  },
  "orig_nbformat": 4,
  "vscode": {
   "interpreter": {
    "hash": "13f0cb0a81c3b5d98267edb52c8df5ab397f1e76f483578498ff8d8f6d5d2130"
   }
  }
 },
 "nbformat": 4,
 "nbformat_minor": 2
}
