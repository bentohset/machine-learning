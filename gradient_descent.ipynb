{
 "cells": [
  {
   "cell_type": "code",
   "execution_count": 7,
   "metadata": {},
   "outputs": [
    {
     "name": "stdout",
     "output_type": "stream",
     "text": [
      "[-0.3999999996249244, -0.49600043957798334, -0.49600043957798334, -0.49600043957798334, -0.49600043957798334, -0.49600043957798334, -0.49600043957798334, -0.49600043957798334, -0.49600043957798334, -0.49600043957798334]\n",
      "[-18.60000000230866, 5129.284807954562, -107959419870.7152, -107959419870.7152, -107959419870.7152, -107959419870.7152, -107959419870.7152, -107959419870.7152, -107959419870.7152, -107959419870.7152]\n"
     ]
    }
   ],
   "source": [
    "#gradient descent\n",
    "import numpy as np\n",
    "\n",
    "def grad1D(f, x, h=1e-6):\n",
    "    return (f(x+h)-f(x-h))/(2*h)\n",
    "\n",
    "def grad2D(f, x, y, h=1e-6):\n",
    "    return (f(x+h, y)-f(x-h, y))/(2*h), (f(x, y+h)-f(x, y-h))/(2*h)\n",
    "\n",
    "#-----change-----#\n",
    "def func(x,y):\n",
    "    return (x**3 + y**4)\n",
    "learning_rate = 0.2\n",
    "x = 2\n",
    "y= 3\n",
    "output_x = []\n",
    "output_y = []\n",
    "num_iter = 10\n",
    "#-----change-----#\n",
    "\n",
    "for _ in range(num_iter):\n",
    "    grad_x, grad_y = grad2D(func, x, y)\n",
    "    x = x-learning_rate*grad_x\n",
    "    y = y-learning_rate*grad_y\n",
    "    output_y.append(y)\n",
    "    output_x.append(x)\n",
    "\n",
    "print(output_x)\n",
    "print(output_y)"
   ]
  },
  {
   "cell_type": "code",
   "execution_count": 1,
   "metadata": {},
   "outputs": [
    {
     "name": "stdout",
     "output_type": "stream",
     "text": [
      "4.5059234811128945\n"
     ]
    }
   ],
   "source": [
    "import numpy as np\n",
    "\n",
    "def grad1D(f, x, h=1e-6):\n",
    "    return (f(x+h)-f(x-h))/(2*h)\n",
    "\n",
    "def func(x):\n",
    "    return (np.cos(x**2))**2\n",
    "\n",
    "x=3\n",
    "\n",
    "print(grad1D(func,x))"
   ]
  }
 ],
 "metadata": {
  "kernelspec": {
   "display_name": "Python 3.9.9 64-bit",
   "language": "python",
   "name": "python3"
  },
  "language_info": {
   "codemirror_mode": {
    "name": "ipython",
    "version": 3
   },
   "file_extension": ".py",
   "mimetype": "text/x-python",
   "name": "python",
   "nbconvert_exporter": "python",
   "pygments_lexer": "ipython3",
   "version": "3.9.9"
  },
  "orig_nbformat": 4,
  "vscode": {
   "interpreter": {
    "hash": "13f0cb0a81c3b5d98267edb52c8df5ab397f1e76f483578498ff8d8f6d5d2130"
   }
  }
 },
 "nbformat": 4,
 "nbformat_minor": 2
}
