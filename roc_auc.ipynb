{
 "cells": [
  {
   "cell_type": "code",
   "execution_count": null,
   "metadata": {},
   "outputs": [],
   "source": [
    "#ROC and AUC\n",
    "import numpy as np\n",
    "from sklearn.model_selection import train_test_split\n",
    "import matplotlib.pyplot as plt\n",
    "from numpy.linalg import inv\n",
    "\n",
    "def load_data(Train=False):\n",
    "    import csv\n",
    "    data = []\n",
    "    ## Read the training data\n",
    "    f = open('spambase.data')\n",
    "    reader = csv.reader(f)\n",
    "    next(reader, None)\n",
    "    for row in reader:\n",
    "        data.append(row)\n",
    "    f.close()\n",
    "    ## x[:-1]: omit the last element of each x row\n",
    "    X = np.array([x[:-1] for x in data]).astype(np.float)\n",
    "    ## x[-1]: the first element from the right instead of from the left\n",
    "    y = np.array([x[-1] for x in data]).astype(np.float)\n",
    "    del data # free up the memory\n",
    "    if Train:\n",
    "        # returns X_train, X_test, y_train, y_test\n",
    "        return train_test_split(X, y, test_size=0.2, random_state=8)\n",
    "    else:\n",
    "        return X, y\n",
    "\n",
    "X_train, X_test,y_train,y_test = load_data(Train=True)\n",
    "W = inv(X_train.T @ X_train) @ X_train.T @ y_train\n",
    "\n",
    "y_pred = X_test @ W\n",
    "\n",
    "## calculate classification error rate\n",
    "yp_cls = [1 if y_out>=0.5 else 0 for y_out in y_pred]  #treshold 0.5\n",
    "diff = np.abs(y_test-yp_cls)\n",
    "test_error_count = (diff==1).sum()\n",
    "test_error_rate = test_error_count/len(y_test)\n",
    "print(\"Test error rate=\",test_error_rate)\n",
    "\n",
    "## part2: compute FPR and FNR at diff thresholds to plot ROC\n",
    "pos_idx = np.where(y_test == 1)\n",
    "neg_idx = np.where(y_test == 0)\n",
    "y_pred_for_pos = y_pred[pos_idx]\n",
    "y_pred_for_neg = y_pred[neg_idx]\n",
    "#use shorter of 2 arrays as threshold\n",
    "if (len(y_pred_for_pos) <= len(y_pred_for_neg)):\n",
    "    sorted = np.sort(y_pred_for_pos)\n",
    "else:\n",
    "    sorted = np.sort(y_pred_for_neg)\n",
    "FNR = []\n",
    "FPR = []\n",
    "TPR = []\n",
    "# compute FNR FPR AND TPR for each threshold\n",
    "for k in range(len(sorted)):\n",
    "    yp_cls_pos = np.abs([1 if yout >= sorted[k] else 0 for yout in y_pred_for_pos])\n",
    "    yp_cls_neg = np.abs([1 if yout >= sorted[k] else 0 for yout in y_pred_for_neg])\n",
    "    FNR += [(yp_cls_pos ==0).sum() / len(y_pred_for_pos)]\n",
    "    FPR += [(yp_cls_neg == 1).sum() / len(y_pred_for_neg)]\n",
    "    TPR += [1-(yp_cls_pos == 0).sum() / len(y_pred_for_pos)]\n",
    "\n",
    "ypos_array = [[1 if y_pred_for_pos[j] >= y_pred_for_neg[k] else 0 for j in range(len(y_pred_for_pos))] for k in range(len(y_pred_for_neg))]\n",
    "AUC = np.sum(ypos_array)/(len(y_pred_for_pos)*len(y_pred_for_neg))\n",
    "print('AUC',AUC)"
   ]
  }
 ],
 "metadata": {
  "kernelspec": {
   "display_name": "Python 3",
   "language": "python",
   "name": "python3"
  },
  "language_info": {
   "name": "python",
   "version": "3.9.13 (main, May 19 2022, 07:22:26)  [GCC 11.3.0 64 bit (AMD64)]"
  },
  "orig_nbformat": 4,
  "vscode": {
   "interpreter": {
    "hash": "2a8dfe095fce2b5e88c64a2c3ee084c8e0e0d70b23e7b95b1cfb538be294c5c8"
   }
  }
 },
 "nbformat": 4,
 "nbformat_minor": 2
}
