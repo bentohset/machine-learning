{
 "cells": [
  {
   "cell_type": "code",
   "execution_count": 2,
   "metadata": {},
   "outputs": [
    {
     "name": "stdout",
     "output_type": "stream",
     "text": [
      "6.6884\n",
      "5.7463999999999995 7.6304 20.750899999999998\n",
      "[9.5, 9.6, 12.9, 13.6, 15.7]\n",
      "[1.9, 1.5, 5.4, 6.1, 8.9]\n"
     ]
    }
   ],
   "source": [
    "#mse of regression tree\n",
    "from sklearn.metrics import mean_squared_error\n",
    "import numpy as np\n",
    "\n",
    "def threshold(x,t):\n",
    "    return x>t\n",
    "\n",
    "#-----change-----#\n",
    "x_y = [[0.1,1.9],[0.7,1.5],[1.6,5.4],[2.2,6.1],[3.6,8.9],[4.1,9.5],[4.4,9.6],[5.2,12.9],[6.2,13.6],[7.3,15.7]]\n",
    "t = 4.0\n",
    "#-----change-----#\n",
    "\n",
    "a = []\n",
    "b = []\n",
    "root = [[x_y[i][1]] for i in range(len(x_y))]\n",
    "\n",
    "for i in range(len(x_y)):\n",
    "    if threshold(x_y[i][0],t):\n",
    "        a.append(x_y[i][1])\n",
    "    else:\n",
    "        b.append(x_y[i][1])\n",
    "\n",
    "a_mean = np.mean(a)*np.ones(len(a))\n",
    "b_mean = np.mean(b)*np.ones(len(b))\n",
    "root_mean = np.mean(root)*np.ones(len(root))\n",
    "\n",
    "a_mse = mean_squared_error(a,a_mean)\n",
    "b_mse = mean_squared_error(b,b_mean)\n",
    "root_mse = mean_squared_error(root,root_mean)\n",
    "depth1_mse = (len(a)/len(root))*a_mse + (len(b)/len(root))*b_mse\n",
    "print(depth1_mse)\n",
    "print(a_mse, b_mse,root_mse)\n",
    "print(a)\n",
    "print(b)"
   ]
  }
 ],
 "metadata": {
  "kernelspec": {
   "display_name": "Python 3.9.9 64-bit",
   "language": "python",
   "name": "python3"
  },
  "language_info": {
   "codemirror_mode": {
    "name": "ipython",
    "version": 3
   },
   "file_extension": ".py",
   "mimetype": "text/x-python",
   "name": "python",
   "nbconvert_exporter": "python",
   "pygments_lexer": "ipython3",
   "version": "3.9.9"
  },
  "orig_nbformat": 4,
  "vscode": {
   "interpreter": {
    "hash": "13f0cb0a81c3b5d98267edb52c8df5ab397f1e76f483578498ff8d8f6d5d2130"
   }
  }
 },
 "nbformat": 4,
 "nbformat_minor": 2
}
